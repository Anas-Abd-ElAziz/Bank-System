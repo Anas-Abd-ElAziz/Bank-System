{
 "cells": [
  {
   "cell_type": "markdown",
   "metadata": {},
   "source": [
    "## Banking System using OOP \n",
    "### parent Class: User \n",
    "#### Holds details about an user >> name,age, gender\n",
    "#### has a function to show user details "
   ]
  },
  {
   "cell_type": "code",
   "execution_count": 1,
   "metadata": {},
   "outputs": [],
   "source": [
    "class User () : \n",
    "    def __init__ (self, name , age, gender) : \n",
    "        self.name = name \n",
    "        self.age = age \n",
    "        self.gender = gender\n",
    "    def show_details (self) : \n",
    "        print ('User Details ') \n",
    "        print ('Name ' , self.name ) \n",
    "        print ('age ' , self.age) \n",
    "        print ('Gender : ' , self.gender)"
   ]
  },
  {
   "cell_type": "markdown",
   "metadata": {},
   "source": [
    "# Child Class: Bank \n",
    "## Stores details about the account balance\n",
    "\n",
    "\n",
    "### Allows for deposits, withdraw, view_balance >> input (amount)\n"
   ]
  },
  {
   "cell_type": "code",
   "execution_count": 2,
   "metadata": {},
   "outputs": [],
   "source": [
    "class Bank (User) : \n",
    "    id_count=0\n",
    "    def __init__ (self,name,age,gender,pa) : \n",
    "        User.__init__ (self,name,age,gender)\n",
    "        self.pa= pa\n",
    "        self.balance = 0 \n",
    "        self.id_=Bank.id_count\n",
    "        Bank.id_count+=1\n",
    "        \n",
    "    def deposit (self,amount) :\n",
    "            self.balance = self.balance + int(amount) \n",
    "    \n",
    "    def withdraw  (self, amount) : \n",
    "        if self.balance >= int(amount)  : \n",
    "            self.balance = self.balance - int(amount) \n",
    "            print ('Operation done sucss')\n",
    "        else : \n",
    "            print ('Insuffictient Funds !!! ')\n",
    "    def view_balance (self) : \n",
    "        print ('Your Balance = ' , self.balance )"
   ]
  },
  {
   "cell_type": "markdown",
   "metadata": {},
   "source": [
    "# This Next Cell Is For Handling Type Errors"
   ]
  },
  {
   "cell_type": "code",
   "execution_count": 3,
   "metadata": {},
   "outputs": [],
   "source": [
    "def catchError(x,catch_type):\n",
    "    if catch_type.lower() == 'number':\n",
    "        try:\n",
    "            num = int(x)\n",
    "        except ValueError:\n",
    "            print('Please enter a number \\n')\n",
    "            return False\n",
    "        else:\n",
    "            return True\n",
    "    \n",
    "    if catch_type.lower()== 'string':\n",
    "        try:\n",
    "            if any(char.isdigit() for char in x):\n",
    "                print('this filed should not contain numbers \\n')\n",
    "                return False\n",
    "            else:\n",
    "                return True\n",
    "        except Exception as e:\n",
    "            print(type(e).__name__)\n",
    "            return False\n",
    "    \n",
    "    if catch_type.lower()== 'gender':\n",
    "        try:\n",
    "            genders = ['male','female','f','m']\n",
    "            if x.lower() in genders:\n",
    "                return True\n",
    "            else:\n",
    "                print(\"genders should be 'Male / M' or 'Female / F' \\n\")\n",
    "                return False\n",
    "        except Exception as e:\n",
    "            print(type(e).__name__) \n",
    "            return False\n",
    "    \n",
    "    if catch_type.lower()== 'age':\n",
    "        try:\n",
    "            ages = range(12,101)\n",
    "            if int(x) in ages:\n",
    "                return True\n",
    "            else:\n",
    "                print(\"Age should be between 12 and a 100\")\n",
    "                return False\n",
    "        except ValueError:\n",
    "            print('Please enter a number \\n')\n",
    "            return False\n",
    "        except Exception as e:\n",
    "            print(type(e).__name__) \n",
    "            return False\n",
    "\n",
    "            \n",
    "            \n",
    "def helloError(s,error_name):\n",
    "    error=False\n",
    "    while(error==False):\n",
    "        x = input(f'Enter your {s}: ')\n",
    "        error = catchError(x,error_name)\n",
    "    return x"
   ]
  },
  {
   "cell_type": "markdown",
   "metadata": {},
   "source": [
    "# Sign up / Login Cell"
   ]
  },
  {
   "cell_type": "code",
   "execution_count": 4,
   "metadata": {},
   "outputs": [],
   "source": [
    "def signUp():\n",
    "    name = helloError('name','string')\n",
    "    age = helloError('age','age')\n",
    "    gender = helloError('gender','gender')\n",
    "    pa = helloError('password','number')\n",
    "    return Bank(name,age,gender,pa)\n",
    "        \n",
    "def logIn(users):\n",
    "    name = helloError('name','string')\n",
    "    pas = helloError('password','number')\n",
    "    for i in range(len(users)):\n",
    "        if users[i].pa == pas and users[i].name.lower() == name.lower():\n",
    "            logged_in_index =i\n",
    "            return True\n",
    "        else:\n",
    "            print('Wrong username or password. \\n')\n",
    "            return False"
   ]
  },
  {
   "cell_type": "markdown",
   "metadata": {},
   "source": [
    "# UI Cell"
   ]
  },
  {
   "cell_type": "code",
   "execution_count": 5,
   "metadata": {},
   "outputs": [],
   "source": [
    "def mainUI(index,users):\n",
    "    while(True):\n",
    "        error=False\n",
    "        print(\n",
    "        '''\n",
    "        ===============================\n",
    "        =   Welcome To Bank System    =\n",
    "        ===============================\n",
    "        (1) to show all details account (name, age, gender ) \n",
    "        (2) to show account balance\n",
    "        (3) to withdraw input amount\n",
    "        (4) to deposit input amount\n",
    "        (5) to logout from the system\n",
    "        (0) to exit from the system\n",
    "        '''\n",
    "        )\n",
    "        while(error==False):\n",
    "            x = input()\n",
    "            error = catchError(x ,'number')\n",
    "        x=int(x)\n",
    "        if x==0:\n",
    "            return False\n",
    "        if x==5:\n",
    "            return True\n",
    "        elif x==1:\n",
    "            users[index].show_details()\n",
    "        elif x==2:\n",
    "            users[index].view_balance()\n",
    "        elif x==3:\n",
    "            amount = helloError('amount','number')\n",
    "            users[index].withdraw(amount)\n",
    "        elif x==4:\n",
    "            amount = helloError('amount','number')\n",
    "            users[index].deposit(amount)   \n",
    "\n",
    "logged_in_index= -1\n",
    "def main():\n",
    "    users=[]\n",
    "    while(True):\n",
    "        error=False\n",
    "        print('''\n",
    "        ===============================\n",
    "        =   Welcome To Bank System    =\n",
    "        ===============================\n",
    "        (1) to sign up\n",
    "        (2) to login\n",
    "        (0) to exit from the system\n",
    "        ''')\n",
    "        while(error==False):\n",
    "            x = input()\n",
    "            error = catchError(x ,'number')\n",
    "        x=int(x)\n",
    "        if x==0:\n",
    "            break\n",
    "        elif x==1:\n",
    "            users.append(signUp())\n",
    "        elif x==2:\n",
    "            if logIn(users):\n",
    "                if not mainUI(logged_in_index,users):\n",
    "                    break\n",
    "        else:\n",
    "            print('no such choice')"
   ]
  },
  {
   "cell_type": "code",
   "execution_count": null,
   "metadata": {},
   "outputs": [
    {
     "name": "stdout",
     "output_type": "stream",
     "text": [
      "\n",
      "        ===============================\n",
      "        =   Welcome To Bank System    =\n",
      "        ===============================\n",
      "        (1) to sign up\n",
      "        (2) to login\n",
      "        (0) to exit from the system\n",
      "        \n"
     ]
    }
   ],
   "source": [
    "main()\n"
   ]
  },
  {
   "cell_type": "code",
   "execution_count": null,
   "metadata": {},
   "outputs": [],
   "source": []
  }
 ],
 "metadata": {
  "kernelspec": {
   "display_name": "Python 3",
   "language": "python",
   "name": "python3"
  },
  "language_info": {
   "codemirror_mode": {
    "name": "ipython",
    "version": 3
   },
   "file_extension": ".py",
   "mimetype": "text/x-python",
   "name": "python",
   "nbconvert_exporter": "python",
   "pygments_lexer": "ipython3",
   "version": "3.7.6"
  }
 },
 "nbformat": 4,
 "nbformat_minor": 5
}
